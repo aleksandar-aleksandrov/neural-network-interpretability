{
 "cells": [
  {
   "cell_type": "code",
   "execution_count": 1,
   "metadata": {},
   "outputs": [],
   "source": [
    "import numpy as np\n",
    "import torch\n",
    "import torchvision\n",
    "import torch.nn as nn\n",
    "import torch.optim as optim\n",
    "\n",
    "from utils.datasets import get_mnist, get_images_for_class, generate_mean_image_for_class, get_random_image\n",
    "from utils.utils import show_examples, imshow, show_neighbors, show_dataset_examples\n",
    "from utils.models import AMCNN\n",
    "from utils.train import train, save, validate, load\n"
   ]
  },
  {
   "cell_type": "code",
   "execution_count": 2,
   "metadata": {},
   "outputs": [],
   "source": [
    "model_name = 'model_am.pt'"
   ]
  },
  {
   "cell_type": "markdown",
   "metadata": {},
   "source": [
    "# I. Preparation\n",
    "Steps 1-4. allow for the creation and saving of a simple CNN model for digit recognition based on the MNIST dataset. **Skip to step 5 for the loading of a model, if such is available.**\n",
    "\n",
    "## 1. Load and display the dataset"
   ]
  },
  {
   "cell_type": "code",
   "execution_count": 3,
   "metadata": {},
   "outputs": [],
   "source": [
    "trainset, trainloader, testset, testloader = get_mnist()"
   ]
  },
  {
   "cell_type": "code",
   "execution_count": 4,
   "metadata": {},
   "outputs": [
    {
     "name": "stdout",
     "output_type": "stream",
     "text": [
      "    6     1     7     6\n"
     ]
    },
    {
     "data": {
      "image/png": "[encoded data removed]",
      "text/plain": [
       "<Figure size 432x288 with 1 Axes>"
      ]
     },
     "metadata": {
      "needs_background": "light"
     },
     "output_type": "display_data"
    }
   ],
   "source": [
    "show_dataset_examples(trainloader)"
   ]
  },
  {
   "cell_type": "markdown",
   "metadata": {},
   "source": [
    "## 2. Create the model"
   ]
  },
  {
   "cell_type": "code",
   "execution_count": 9,
   "metadata": {},
   "outputs": [
    {
     "name": "stdout",
     "output_type": "stream",
     "text": [
      "AMCNN(\n",
      "  (conv1): Conv2d(1, 10, kernel_size=(5, 5), stride=(1, 1))\n",
      "  (conv2): Conv2d(10, 20, kernel_size=(5, 5), stride=(1, 1))\n",
      "  (fc1): Linear(in_features=320, out_features=50, bias=True)\n",
      "  (fc2): Linear(in_features=50, out_features=10, bias=True)\n",
      ")\n"
     ]
    }
   ],
   "source": [
    "model = AMCNN()\n",
    "print(model)"
   ]
  },
  {
   "cell_type": "markdown",
   "metadata": {},
   "source": [
    "## 3. Train and validate the model"
   ]
  },
  {
   "cell_type": "code",
   "execution_count": 10,
   "metadata": {},
   "outputs": [],
   "source": [
    "criterion = nn.CrossEntropyLoss()\n",
    "optimizer = optim.SGD(model.parameters(), lr=0.07, momentum=0.9)\n",
    "optimizer = optim.Adam(model.parameters(), lr=0.01)"
   ]
  },
  {
   "cell_type": "code",
   "execution_count": 11,
   "metadata": {},
   "outputs": [
    {
     "name": "stdout",
     "output_type": "stream",
     "text": [
      "Epoch: 1\tBatch: 300\tLoss: 1.285\tAccuracy: 0.984\n",
      "Epoch: 1\tBatch: 600\tLoss: 0.492\tAccuracy: 0.984\n",
      "Epoch: 1\tBatch: 900\tLoss: 0.435\tAccuracy: 0.984\n",
      "Epoch: 1\tBatch: 938\tLoss: 0.071\tAccuracy: 0.969\n",
      "Epoch: 2\tBatch: 300\tLoss: 0.298\tAccuracy: 0.984\n",
      "Epoch: 2\tBatch: 600\tLoss: 0.339\tAccuracy: 0.922\n",
      "Epoch: 2\tBatch: 900\tLoss: 0.393\tAccuracy: 0.953\n",
      "Epoch: 2\tBatch: 938\tLoss: 0.131\tAccuracy: 0.969\n",
      "Epoch: 3\tBatch: 300\tLoss: 0.276\tAccuracy: 0.938\n",
      "Epoch: 3\tBatch: 600\tLoss: 0.303\tAccuracy: 0.953\n",
      "Epoch: 3\tBatch: 900\tLoss: 0.315\tAccuracy: 0.969\n",
      "Epoch: 3\tBatch: 938\tLoss: 0.091\tAccuracy: 1.000\n",
      "Epoch: 4\tBatch: 300\tLoss: 0.244\tAccuracy: 0.969\n",
      "Epoch: 4\tBatch: 600\tLoss: 0.326\tAccuracy: 0.984\n",
      "Epoch: 4\tBatch: 900\tLoss: 0.317\tAccuracy: 0.984\n",
      "Epoch: 4\tBatch: 938\tLoss: 0.068\tAccuracy: 1.000\n",
      "Epoch: 5\tBatch: 300\tLoss: 0.220\tAccuracy: 0.953\n",
      "Epoch: 5\tBatch: 600\tLoss: 0.333\tAccuracy: 0.984\n",
      "Epoch: 5\tBatch: 900\tLoss: 0.313\tAccuracy: 0.953\n",
      "Epoch: 5\tBatch: 938\tLoss: 0.069\tAccuracy: 0.969\n",
      "Finished Training\n"
     ]
    }
   ],
   "source": [
    "train(model, criterion, optimizer, trainloader, 5)"
   ]
  },
  {
   "cell_type": "code",
   "execution_count": 12,
   "metadata": {},
   "outputs": [
    {
     "name": "stdout",
     "output_type": "stream",
     "text": [
      "Test loss: 0.056\n"
     ]
    }
   ],
   "source": [
    "validate(model, criterion, testloader)"
   ]
  },
  {
   "cell_type": "markdown",
   "metadata": {},
   "source": [
    "## 4. Save the model"
   ]
  },
  {
   "cell_type": "code",
   "execution_count": 13,
   "metadata": {},
   "outputs": [],
   "source": [
    "save(model, model_name)"
   ]
  },
  {
   "cell_type": "markdown",
   "metadata": {},
   "source": [
    "## 5. Load the model"
   ]
  },
  {
   "cell_type": "code",
   "execution_count": 14,
   "metadata": {},
   "outputs": [],
   "source": [
    "model = AMCNN()\n",
    "model = load(model, model_name)"
   ]
  },
  {
   "cell_type": "markdown",
   "metadata": {},
   "source": [
    "# II. Activation Maximization"
   ]
  },
  {
   "cell_type": "code",
   "execution_count": 15,
   "metadata": {},
   "outputs": [],
   "source": [
    "def activation_maximization(input_img, model, class_num, lr, reg_term, epochs):\n",
    "    input_img.requires_grad = True\n",
    "\n",
    "    for i in range(epochs):\n",
    "        input_img.retain_grad()\n",
    "        \n",
    "        scores = model(input_img)\n",
    "        score = scores[0, class_num]\n",
    "        \n",
    "        score -= reg_term * input_img.pow(2).sum().sqrt()\n",
    "        score.backward()\n",
    "\n",
    "        input_img = input_img + lr * input_img.grad\n",
    "\n",
    "    return input_img"
   ]
  },
  {
   "cell_type": "code",
   "execution_count": 16,
   "metadata": {},
   "outputs": [],
   "source": [
    "def activation_maximization_with_post_processing(input_img, model, class_num, lr, reg_term, epochs, normalize=True):\n",
    "    end_point = activation_maximization(input_img, model, class_num, lr, reg_term, epochs)\n",
    "\n",
    "    output = model(end_point)\n",
    "    predicted_class = np.argmax(output.detach().numpy(), 1).item()\n",
    "\n",
    "    if normalize:\n",
    "        input_img = (input_img - input_img.max()) / (input_img.max() - input_img.min())\n",
    "        end_point = (end_point - end_point.max()) / (end_point.max() - end_point.min())\n",
    "    \n",
    "    print(\"Expected class is \" + str(class_num))\n",
    "    print(\"Recognized class is \" + str(predicted_class))\n",
    "    \n",
    "    show_neighbors(input_img.detach(), end_point.detach())"
   ]
  },
  {
   "cell_type": "markdown",
   "metadata": {},
   "source": [
    "## 1. Run Activation Maximization starting from a random image"
   ]
  },
  {
   "cell_type": "code",
   "execution_count": 20,
   "metadata": {},
   "outputs": [
    {
     "name": "stdout",
     "output_type": "stream",
     "text": [
      "Expected class is 5\n",
      "Recognized class is 5\n"
     ]
    },
    {
     "data": {
      "image/png": "[encoded data removed]",
      "text/plain": [
       "<Figure size 432x288 with 1 Axes>"
      ]
     },
     "metadata": {
      "needs_background": "light"
     },
     "output_type": "display_data"
    }
   ],
   "source": [
    "image_random, label_random = get_random_image(trainloader)\n",
    "label_random = label_random.item()\n",
    "image_random = image_random.expand(1, 1, 28, 28)\n",
    "\n",
    "end_point = activation_maximization_with_post_processing(image_random, model, label_random, 0.01, 0.5, 600)"
   ]
  },
  {
   "cell_type": "markdown",
   "metadata": {},
   "source": [
    "## 2. Run Activation Maximization starting with a random class"
   ]
  },
  {
   "cell_type": "code",
   "execution_count": 23,
   "metadata": {},
   "outputs": [
    {
     "name": "stdout",
     "output_type": "stream",
     "text": [
      "Expected class is 6\n",
      "Recognized class is 6\n"
     ]
    },
    {
     "data": {
      "image/png": "[encoded data removed]",
      "text/plain": [
       "<Figure size 432x288 with 1 Axes>"
      ]
     },
     "metadata": {
      "needs_background": "light"
     },
     "output_type": "display_data"
    }
   ],
   "source": [
    "image_noise = torch.rand((1, 1, 28, 28))\n",
    "label_noise = 6\n",
    "activation_maximization_with_post_processing(image_noise, model, label_noise, 0.6, 0.5, 600)"
   ]
  },
  {
   "cell_type": "markdown",
   "metadata": {},
   "source": [
    "## 3. Run Activation Maximization starting from the mean image for a class"
   ]
  },
  {
   "cell_type": "code",
   "execution_count": 24,
   "metadata": {},
   "outputs": [
    {
     "name": "stdout",
     "output_type": "stream",
     "text": [
      "Expected class is 9\n",
      "Recognized class is 9\n"
     ]
    },
    {
     "data": {
      "image/png": "[encoded data removed]",
      "text/plain": [
       "<Figure size 432x288 with 1 Axes>"
      ]
     },
     "metadata": {
      "needs_background": "light"
     },
     "output_type": "display_data"
    }
   ],
   "source": [
    "label_mean = 9\n",
    "image_mean = generate_mean_image_for_class(trainset, label_mean)\n",
    "image_mean = image_mean.expand(1, 1, 28, 28)\n",
    "\n",
    "activation_maximization_with_post_processing(image_mean, model, label_mean, 0.05, 0.8, 500)"
   ]
  },
  {
   "cell_type": "markdown",
   "metadata": {},
   "source": [
    "# III. Saliency Maps"
   ]
  },
  {
   "cell_type": "code",
   "execution_count": 25,
   "metadata": {},
   "outputs": [],
   "source": [
    "def get_saliency_map(model, input_img):\n",
    "    input_img.requires_grad = True\n",
    "    \n",
    "    input_img.retain_grad()\n",
    "    scores = model(input_img)\n",
    "    \n",
    "    score_max_index = scores.argmax()\n",
    "    score_max = scores[0,score_max_index]\n",
    "    score_max.backward()\n",
    "    \n",
    "    return torch.max(input_img.grad.data, dim=1)[0]"
   ]
  },
  {
   "cell_type": "markdown",
   "metadata": {},
   "source": [
    "## 1. Visualize gradient w.r.t. to the image"
   ]
  },
  {
   "cell_type": "code",
   "execution_count": 27,
   "metadata": {},
   "outputs": [
    {
     "data": {
      "image/png": "[encoded data removed]",
      "text/plain": [
       "<Figure size 432x288 with 1 Axes>"
      ]
     },
     "metadata": {
      "needs_background": "light"
     },
     "output_type": "display_data"
    }
   ],
   "source": [
    "input_img, input_label = get_random_image(trainloader)\n",
    "saliency_map = get_saliency_map(model, input_img.expand(1, 1, 28, 28))\n",
    "\n",
    "saliency_map = (saliency_map - saliency_map.min()) / (saliency_map.max() - saliency_map.min())\n",
    "show = torch.zeros((2, 1, 28, 28))\n",
    "show[0] = input_img\n",
    "show[1] = saliency_map\n",
    "\n",
    "imshow(torchvision.utils.make_grid(show))"
   ]
  },
  {
   "cell_type": "markdown",
   "metadata": {},
   "source": [
    "## 2. Visualize gradient multiplied by the input image"
   ]
  },
  {
   "cell_type": "code",
   "execution_count": 28,
   "metadata": {},
   "outputs": [
    {
     "data": {
      "image/png": "[encoded data removed]",
      "text/plain": [
       "<Figure size 432x288 with 1 Axes>"
      ]
     },
     "metadata": {
      "needs_background": "light"
     },
     "output_type": "display_data"
    }
   ],
   "source": [
    "input_img, input_label = get_random_image(trainloader)\n",
    "saliency_map = get_saliency_map(model, input_img.expand(1, 1, 28, 28))\n",
    "\n",
    "saliency_map = (saliency_map - saliency_map.min()) / (saliency_map.max() - saliency_map.min())\n",
    "show = torch.zeros((2, 1, 28, 28))\n",
    "show[0] = input_img\n",
    "show[1] = saliency_map * input_img\n",
    "\n",
    "imshow(torchvision.utils.make_grid(show))"
   ]
  }
 ],
 "metadata": {
  "kernelspec": {
   "display_name": "Python 3",
   "language": "python",
   "name": "python3"
  },
  "language_info": {
   "codemirror_mode": {
    "name": "ipython",
    "version": 3
   },
   "file_extension": ".py",
   "mimetype": "text/x-python",
   "name": "python",
   "nbconvert_exporter": "python",
   "pygments_lexer": "ipython3",
   "version": "3.6.8"
  }
 },
 "nbformat": 4,
 "nbformat_minor": 2
}
